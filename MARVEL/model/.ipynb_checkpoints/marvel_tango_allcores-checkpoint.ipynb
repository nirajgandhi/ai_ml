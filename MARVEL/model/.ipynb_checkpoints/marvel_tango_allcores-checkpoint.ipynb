{
 "cells": [
  {
   "cell_type": "code",
   "execution_count": 1,
   "id": "d31437f2",
   "metadata": {
    "scrolled": true
   },
   "outputs": [],
   "source": [
    "import pandas as pd\n",
    "import numpy as np\n",
    "from matplotlib import pyplot as plt\n",
    "%matplotlib inline\n",
    "import matplotlib\n",
    "matplotlib.rcParams[\"figure.figsize\"] = (20,10)\n",
    "#print(\"Hello world!\")"
   ]
  },
  {
   "cell_type": "code",
   "execution_count": 2,
   "id": "d39a17b1",
   "metadata": {},
   "outputs": [
    {
     "data": {
      "text/html": [
       "<div>\n",
       "<style scoped>\n",
       "    .dataframe tbody tr th:only-of-type {\n",
       "        vertical-align: middle;\n",
       "    }\n",
       "\n",
       "    .dataframe tbody tr th {\n",
       "        vertical-align: top;\n",
       "    }\n",
       "\n",
       "    .dataframe thead th {\n",
       "        text-align: right;\n",
       "    }\n",
       "</style>\n",
       "<table border=\"1\" class=\"dataframe\">\n",
       "  <thead>\n",
       "    <tr style=\"text-align: right;\">\n",
       "      <th></th>\n",
       "      <th>result_file</th>\n",
       "      <th>Configuration Name</th>\n",
       "      <th>mode_top2.QOS_CONFIG:4</th>\n",
       "      <th>mode_top2.DDR0_ECC_EN:1</th>\n",
       "      <th>mode_task_0.ENABLE:1</th>\n",
       "      <th>mode_task_1.ENABLE:1</th>\n",
       "      <th>mode_task_2.ENABLE:1</th>\n",
       "      <th>mode_task_3.ENABLE:1</th>\n",
       "      <th>mode_task_4.ENABLE:1</th>\n",
       "      <th>mode_task_5.ENABLE:1</th>\n",
       "      <th>...</th>\n",
       "      <th>TASK_Throughput_1</th>\n",
       "      <th>TASK_Throughput_2</th>\n",
       "      <th>TASK_Throughput_3</th>\n",
       "      <th>TASK_Throughput_4</th>\n",
       "      <th>TASK_Throughput_5</th>\n",
       "      <th>TASK_Throughput_6</th>\n",
       "      <th>TASK_Throughput_7</th>\n",
       "      <th>TASK_Throughput_8</th>\n",
       "      <th>TASK_Throughput_9</th>\n",
       "      <th>Test Status</th>\n",
       "    </tr>\n",
       "  </thead>\n",
       "  <tbody>\n",
       "    <tr>\n",
       "      <th>0</th>\n",
       "      <td>S32G398_Rev1_0_res_02C10_tst01_Ver01_ddrc_allC...</td>\n",
       "      <td>01_A53.M7.-DRAMC-cp</td>\n",
       "      <td>2</td>\n",
       "      <td>1</td>\n",
       "      <td>1</td>\n",
       "      <td>1</td>\n",
       "      <td>1</td>\n",
       "      <td>1</td>\n",
       "      <td>1</td>\n",
       "      <td>1</td>\n",
       "      <td>...</td>\n",
       "      <td>267.48</td>\n",
       "      <td>267.50</td>\n",
       "      <td>222.45</td>\n",
       "      <td>222.43</td>\n",
       "      <td>222.43</td>\n",
       "      <td>222.52</td>\n",
       "      <td>62.58</td>\n",
       "      <td>62.30</td>\n",
       "      <td>62.40</td>\n",
       "      <td>Pass</td>\n",
       "    </tr>\n",
       "    <tr>\n",
       "      <th>1</th>\n",
       "      <td>S32G398_Rev1_0_res_02C10_tst01_Ver01_ddrc_allC...</td>\n",
       "      <td>01_A53.M7.-DRAMC-cp</td>\n",
       "      <td>1</td>\n",
       "      <td>1</td>\n",
       "      <td>1</td>\n",
       "      <td>1</td>\n",
       "      <td>1</td>\n",
       "      <td>1</td>\n",
       "      <td>1</td>\n",
       "      <td>1</td>\n",
       "      <td>...</td>\n",
       "      <td>267.74</td>\n",
       "      <td>267.75</td>\n",
       "      <td>222.65</td>\n",
       "      <td>222.57</td>\n",
       "      <td>222.60</td>\n",
       "      <td>222.69</td>\n",
       "      <td>62.36</td>\n",
       "      <td>62.37</td>\n",
       "      <td>62.61</td>\n",
       "      <td>Pass</td>\n",
       "    </tr>\n",
       "    <tr>\n",
       "      <th>2</th>\n",
       "      <td>S32G398_Rev1_0_res_02C10_tst01_Ver01_ddrc_allC...</td>\n",
       "      <td>01_A53.M7.-DRAMC-cp</td>\n",
       "      <td>2</td>\n",
       "      <td>0</td>\n",
       "      <td>1</td>\n",
       "      <td>1</td>\n",
       "      <td>1</td>\n",
       "      <td>1</td>\n",
       "      <td>1</td>\n",
       "      <td>1</td>\n",
       "      <td>...</td>\n",
       "      <td>459.30</td>\n",
       "      <td>459.04</td>\n",
       "      <td>388.79</td>\n",
       "      <td>388.29</td>\n",
       "      <td>387.38</td>\n",
       "      <td>387.70</td>\n",
       "      <td>95.36</td>\n",
       "      <td>96.09</td>\n",
       "      <td>95.96</td>\n",
       "      <td>Pass</td>\n",
       "    </tr>\n",
       "    <tr>\n",
       "      <th>3</th>\n",
       "      <td>S32G398_Rev1_0_res_02C10_tst01_Ver01_ddrc_allC...</td>\n",
       "      <td>01_A53.M7.-DRAMC-cp</td>\n",
       "      <td>1</td>\n",
       "      <td>0</td>\n",
       "      <td>1</td>\n",
       "      <td>1</td>\n",
       "      <td>1</td>\n",
       "      <td>1</td>\n",
       "      <td>1</td>\n",
       "      <td>1</td>\n",
       "      <td>...</td>\n",
       "      <td>460.14</td>\n",
       "      <td>459.70</td>\n",
       "      <td>388.60</td>\n",
       "      <td>388.36</td>\n",
       "      <td>387.43</td>\n",
       "      <td>387.98</td>\n",
       "      <td>95.65</td>\n",
       "      <td>95.76</td>\n",
       "      <td>96.20</td>\n",
       "      <td>Pass</td>\n",
       "    </tr>\n",
       "    <tr>\n",
       "      <th>4</th>\n",
       "      <td>S32G398_Rev1_0_res_02C10_tst01_Ver01_ddrc_allC...</td>\n",
       "      <td>02_A53.M7.-DRAMC-wr</td>\n",
       "      <td>2</td>\n",
       "      <td>1</td>\n",
       "      <td>1</td>\n",
       "      <td>1</td>\n",
       "      <td>1</td>\n",
       "      <td>1</td>\n",
       "      <td>1</td>\n",
       "      <td>1</td>\n",
       "      <td>...</td>\n",
       "      <td>381.80</td>\n",
       "      <td>383.48</td>\n",
       "      <td>357.34</td>\n",
       "      <td>355.62</td>\n",
       "      <td>355.68</td>\n",
       "      <td>357.48</td>\n",
       "      <td>420.44</td>\n",
       "      <td>420.38</td>\n",
       "      <td>420.44</td>\n",
       "      <td>Pass</td>\n",
       "    </tr>\n",
       "  </tbody>\n",
       "</table>\n",
       "<p>5 rows × 145 columns</p>\n",
       "</div>"
      ],
      "text/plain": [
       "                                         result_file   Configuration Name  \\\n",
       "0  S32G398_Rev1_0_res_02C10_tst01_Ver01_ddrc_allC...  01_A53.M7.-DRAMC-cp   \n",
       "1  S32G398_Rev1_0_res_02C10_tst01_Ver01_ddrc_allC...  01_A53.M7.-DRAMC-cp   \n",
       "2  S32G398_Rev1_0_res_02C10_tst01_Ver01_ddrc_allC...  01_A53.M7.-DRAMC-cp   \n",
       "3  S32G398_Rev1_0_res_02C10_tst01_Ver01_ddrc_allC...  01_A53.M7.-DRAMC-cp   \n",
       "4  S32G398_Rev1_0_res_02C10_tst01_Ver01_ddrc_allC...  02_A53.M7.-DRAMC-wr   \n",
       "\n",
       "   mode_top2.QOS_CONFIG:4  mode_top2.DDR0_ECC_EN:1  mode_task_0.ENABLE:1  \\\n",
       "0                       2                        1                     1   \n",
       "1                       1                        1                     1   \n",
       "2                       2                        0                     1   \n",
       "3                       1                        0                     1   \n",
       "4                       2                        1                     1   \n",
       "\n",
       "   mode_task_1.ENABLE:1  mode_task_2.ENABLE:1  mode_task_3.ENABLE:1  \\\n",
       "0                     1                     1                     1   \n",
       "1                     1                     1                     1   \n",
       "2                     1                     1                     1   \n",
       "3                     1                     1                     1   \n",
       "4                     1                     1                     1   \n",
       "\n",
       "   mode_task_4.ENABLE:1  mode_task_5.ENABLE:1  ...  TASK_Throughput_1  \\\n",
       "0                     1                     1  ...             267.48   \n",
       "1                     1                     1  ...             267.74   \n",
       "2                     1                     1  ...             459.30   \n",
       "3                     1                     1  ...             460.14   \n",
       "4                     1                     1  ...             381.80   \n",
       "\n",
       "   TASK_Throughput_2  TASK_Throughput_3  TASK_Throughput_4  TASK_Throughput_5  \\\n",
       "0             267.50             222.45             222.43             222.43   \n",
       "1             267.75             222.65             222.57             222.60   \n",
       "2             459.04             388.79             388.29             387.38   \n",
       "3             459.70             388.60             388.36             387.43   \n",
       "4             383.48             357.34             355.62             355.68   \n",
       "\n",
       "   TASK_Throughput_6  TASK_Throughput_7  TASK_Throughput_8  TASK_Throughput_9  \\\n",
       "0             222.52              62.58              62.30              62.40   \n",
       "1             222.69              62.36              62.37              62.61   \n",
       "2             387.70              95.36              96.09              95.96   \n",
       "3             387.98              95.65              95.76              96.20   \n",
       "4             357.48             420.44             420.38             420.44   \n",
       "\n",
       "   Test Status  \n",
       "0         Pass  \n",
       "1         Pass  \n",
       "2         Pass  \n",
       "3         Pass  \n",
       "4         Pass  \n",
       "\n",
       "[5 rows x 145 columns]"
      ]
     },
     "execution_count": 2,
     "metadata": {},
     "output_type": "execute_result"
    }
   ],
   "source": [
    "df = pd.read_csv(\"../dataset/combined_data.csv\")\n",
    "df.head()"
   ]
  },
  {
   "cell_type": "code",
   "execution_count": 3,
   "id": "6d615014",
   "metadata": {},
   "outputs": [
    {
     "data": {
      "text/plain": [
       "(80, 145)"
      ]
     },
     "execution_count": 3,
     "metadata": {},
     "output_type": "execute_result"
    }
   ],
   "source": [
    "df.shape"
   ]
  },
  {
   "cell_type": "code",
   "execution_count": 4,
   "id": "3b2050d0",
   "metadata": {},
   "outputs": [],
   "source": [
    "df = df.drop(df.filter(regex='time_target').columns, axis='columns') # Drop time_target columns"
   ]
  },
  {
   "cell_type": "code",
   "execution_count": 5,
   "id": "256cde33",
   "metadata": {},
   "outputs": [],
   "source": [
    "#df.head()"
   ]
  },
  {
   "cell_type": "code",
   "execution_count": 6,
   "id": "3f480358",
   "metadata": {},
   "outputs": [],
   "source": [
    "#df.isnull().sum()"
   ]
  },
  {
   "cell_type": "code",
   "execution_count": 7,
   "id": "3106ef7b",
   "metadata": {},
   "outputs": [
    {
     "data": {
      "text/plain": [
       "(76, 135)"
      ]
     },
     "execution_count": 7,
     "metadata": {},
     "output_type": "execute_result"
    }
   ],
   "source": [
    "df.drop(df.index[df['Test Status'] == 'Fail'], inplace = True) # Skip failed testcases\n",
    "redendant_cols = ['result_file', 'Configuration Name','Test Status']\n",
    "df.head()\n",
    "df.shape"
   ]
  },
  {
   "cell_type": "code",
   "execution_count": 8,
   "id": "5f320849",
   "metadata": {},
   "outputs": [],
   "source": [
    "## Yet to impletment Outlier Removal, will be done later on."
   ]
  },
  {
   "cell_type": "markdown",
   "id": "8fdbbb7f",
   "metadata": {},
   "source": [
    "# Building Model\n",
    "# First we need to remove dependent variables\n",
    "\n"
   ]
  },
  {
   "cell_type": "code",
   "execution_count": 9,
   "id": "bfcbc391",
   "metadata": {
    "scrolled": true
   },
   "outputs": [
    {
     "name": "stdout",
     "output_type": "stream",
     "text": [
      "['TASK_Throughput_0', 'TASK_Throughput_1', 'TASK_Throughput_2', 'TASK_Throughput_3', 'TASK_Throughput_4', 'TASK_Throughput_5', 'TASK_Throughput_6', 'TASK_Throughput_7', 'TASK_Throughput_8', 'TASK_Throughput_9']\n"
     ]
    }
   ],
   "source": [
    "dependent_cols = ['TASK_Throughput_0']\n",
    "later_dependent_cols = ['TASK_Throughput_1','TASK_Throughput_2','TASK_Throughput_3','TASK_Throughput_4','TASK_Throughput_5', 'TASK_Throughput_6','TASK_Throughput_7','TASK_Throughput_8','TASK_Throughput_9']\n",
    "#X = X.drop(X.filter(regex='TASK_Throughput_0').columns, axis='columns')\n",
    "all_dependent_cols = dependent_cols + later_dependent_cols\n",
    "print(all_dependent_cols)"
   ]
  },
  {
   "cell_type": "code",
   "execution_count": 10,
   "id": "b49c90c4",
   "metadata": {},
   "outputs": [
    {
     "data": {
      "text/html": [
       "<div>\n",
       "<style scoped>\n",
       "    .dataframe tbody tr th:only-of-type {\n",
       "        vertical-align: middle;\n",
       "    }\n",
       "\n",
       "    .dataframe tbody tr th {\n",
       "        vertical-align: top;\n",
       "    }\n",
       "\n",
       "    .dataframe thead th {\n",
       "        text-align: right;\n",
       "    }\n",
       "</style>\n",
       "<table border=\"1\" class=\"dataframe\">\n",
       "  <thead>\n",
       "    <tr style=\"text-align: right;\">\n",
       "      <th></th>\n",
       "      <th>mode_top2.QOS_CONFIG:4</th>\n",
       "      <th>mode_top2.DDR0_ECC_EN:1</th>\n",
       "      <th>mode_task_0.ENABLE:1</th>\n",
       "      <th>mode_task_1.ENABLE:1</th>\n",
       "      <th>mode_task_2.ENABLE:1</th>\n",
       "      <th>mode_task_3.ENABLE:1</th>\n",
       "      <th>mode_task_4.ENABLE:1</th>\n",
       "      <th>mode_task_5.ENABLE:1</th>\n",
       "      <th>mode_task_6.ENABLE:1</th>\n",
       "      <th>mode_task_7.ENABLE:1</th>\n",
       "      <th>...</th>\n",
       "      <th>data_size_0_0.BYTES</th>\n",
       "      <th>data_size_1_0.BYTES</th>\n",
       "      <th>data_size_2_0.BYTES</th>\n",
       "      <th>data_size_3_0.BYTES</th>\n",
       "      <th>data_size_4_0.BYTES</th>\n",
       "      <th>data_size_5_0.BYTES</th>\n",
       "      <th>data_size_6_0.BYTES</th>\n",
       "      <th>data_size_7_0.BYTES</th>\n",
       "      <th>data_size_8_0.BYTES</th>\n",
       "      <th>data_size_9_0.BYTES</th>\n",
       "    </tr>\n",
       "  </thead>\n",
       "  <tbody>\n",
       "    <tr>\n",
       "      <th>0</th>\n",
       "      <td>2</td>\n",
       "      <td>1</td>\n",
       "      <td>1</td>\n",
       "      <td>1</td>\n",
       "      <td>1</td>\n",
       "      <td>1</td>\n",
       "      <td>1</td>\n",
       "      <td>1</td>\n",
       "      <td>1</td>\n",
       "      <td>1</td>\n",
       "      <td>...</td>\n",
       "      <td>10485760</td>\n",
       "      <td>10485760</td>\n",
       "      <td>10485760</td>\n",
       "      <td>8388608</td>\n",
       "      <td>8388608</td>\n",
       "      <td>8388608</td>\n",
       "      <td>8388608</td>\n",
       "      <td>2752512</td>\n",
       "      <td>2752512</td>\n",
       "      <td>2752512</td>\n",
       "    </tr>\n",
       "    <tr>\n",
       "      <th>1</th>\n",
       "      <td>1</td>\n",
       "      <td>1</td>\n",
       "      <td>1</td>\n",
       "      <td>1</td>\n",
       "      <td>1</td>\n",
       "      <td>1</td>\n",
       "      <td>1</td>\n",
       "      <td>1</td>\n",
       "      <td>1</td>\n",
       "      <td>1</td>\n",
       "      <td>...</td>\n",
       "      <td>10485760</td>\n",
       "      <td>10485760</td>\n",
       "      <td>10485760</td>\n",
       "      <td>8388608</td>\n",
       "      <td>8388608</td>\n",
       "      <td>8388608</td>\n",
       "      <td>8388608</td>\n",
       "      <td>2752512</td>\n",
       "      <td>2752512</td>\n",
       "      <td>2752512</td>\n",
       "    </tr>\n",
       "    <tr>\n",
       "      <th>2</th>\n",
       "      <td>2</td>\n",
       "      <td>0</td>\n",
       "      <td>1</td>\n",
       "      <td>1</td>\n",
       "      <td>1</td>\n",
       "      <td>1</td>\n",
       "      <td>1</td>\n",
       "      <td>1</td>\n",
       "      <td>1</td>\n",
       "      <td>1</td>\n",
       "      <td>...</td>\n",
       "      <td>10485760</td>\n",
       "      <td>10485760</td>\n",
       "      <td>10485760</td>\n",
       "      <td>8388608</td>\n",
       "      <td>8388608</td>\n",
       "      <td>8388608</td>\n",
       "      <td>8388608</td>\n",
       "      <td>2752512</td>\n",
       "      <td>2752512</td>\n",
       "      <td>2752512</td>\n",
       "    </tr>\n",
       "    <tr>\n",
       "      <th>3</th>\n",
       "      <td>1</td>\n",
       "      <td>0</td>\n",
       "      <td>1</td>\n",
       "      <td>1</td>\n",
       "      <td>1</td>\n",
       "      <td>1</td>\n",
       "      <td>1</td>\n",
       "      <td>1</td>\n",
       "      <td>1</td>\n",
       "      <td>1</td>\n",
       "      <td>...</td>\n",
       "      <td>10485760</td>\n",
       "      <td>10485760</td>\n",
       "      <td>10485760</td>\n",
       "      <td>8388608</td>\n",
       "      <td>8388608</td>\n",
       "      <td>8388608</td>\n",
       "      <td>8388608</td>\n",
       "      <td>2752512</td>\n",
       "      <td>2752512</td>\n",
       "      <td>2752512</td>\n",
       "    </tr>\n",
       "    <tr>\n",
       "      <th>4</th>\n",
       "      <td>2</td>\n",
       "      <td>1</td>\n",
       "      <td>1</td>\n",
       "      <td>1</td>\n",
       "      <td>1</td>\n",
       "      <td>1</td>\n",
       "      <td>1</td>\n",
       "      <td>1</td>\n",
       "      <td>1</td>\n",
       "      <td>1</td>\n",
       "      <td>...</td>\n",
       "      <td>8388608</td>\n",
       "      <td>8388608</td>\n",
       "      <td>8388608</td>\n",
       "      <td>8388608</td>\n",
       "      <td>8388608</td>\n",
       "      <td>8388608</td>\n",
       "      <td>8388608</td>\n",
       "      <td>8388608</td>\n",
       "      <td>8388608</td>\n",
       "      <td>8388608</td>\n",
       "    </tr>\n",
       "  </tbody>\n",
       "</table>\n",
       "<p>5 rows × 122 columns</p>\n",
       "</div>"
      ],
      "text/plain": [
       "   mode_top2.QOS_CONFIG:4  mode_top2.DDR0_ECC_EN:1  mode_task_0.ENABLE:1  \\\n",
       "0                       2                        1                     1   \n",
       "1                       1                        1                     1   \n",
       "2                       2                        0                     1   \n",
       "3                       1                        0                     1   \n",
       "4                       2                        1                     1   \n",
       "\n",
       "   mode_task_1.ENABLE:1  mode_task_2.ENABLE:1  mode_task_3.ENABLE:1  \\\n",
       "0                     1                     1                     1   \n",
       "1                     1                     1                     1   \n",
       "2                     1                     1                     1   \n",
       "3                     1                     1                     1   \n",
       "4                     1                     1                     1   \n",
       "\n",
       "   mode_task_4.ENABLE:1  mode_task_5.ENABLE:1  mode_task_6.ENABLE:1  \\\n",
       "0                     1                     1                     1   \n",
       "1                     1                     1                     1   \n",
       "2                     1                     1                     1   \n",
       "3                     1                     1                     1   \n",
       "4                     1                     1                     1   \n",
       "\n",
       "   mode_task_7.ENABLE:1  ...  data_size_0_0.BYTES  data_size_1_0.BYTES  \\\n",
       "0                     1  ...             10485760             10485760   \n",
       "1                     1  ...             10485760             10485760   \n",
       "2                     1  ...             10485760             10485760   \n",
       "3                     1  ...             10485760             10485760   \n",
       "4                     1  ...              8388608              8388608   \n",
       "\n",
       "   data_size_2_0.BYTES  data_size_3_0.BYTES  data_size_4_0.BYTES  \\\n",
       "0             10485760              8388608              8388608   \n",
       "1             10485760              8388608              8388608   \n",
       "2             10485760              8388608              8388608   \n",
       "3             10485760              8388608              8388608   \n",
       "4              8388608              8388608              8388608   \n",
       "\n",
       "   data_size_5_0.BYTES  data_size_6_0.BYTES  data_size_7_0.BYTES  \\\n",
       "0              8388608              8388608              2752512   \n",
       "1              8388608              8388608              2752512   \n",
       "2              8388608              8388608              2752512   \n",
       "3              8388608              8388608              2752512   \n",
       "4              8388608              8388608              8388608   \n",
       "\n",
       "   data_size_8_0.BYTES  data_size_9_0.BYTES  \n",
       "0              2752512              2752512  \n",
       "1              2752512              2752512  \n",
       "2              2752512              2752512  \n",
       "3              2752512              2752512  \n",
       "4              8388608              8388608  \n",
       "\n",
       "[5 rows x 122 columns]"
      ]
     },
     "execution_count": 10,
     "metadata": {},
     "output_type": "execute_result"
    }
   ],
   "source": [
    "X = df.drop(columns = redendant_cols)\n",
    "X = X.drop(columns = dependent_cols)\n",
    "X = X.drop(columns = later_dependent_cols)\n",
    "X.head()"
   ]
  },
  {
   "cell_type": "code",
   "execution_count": 11,
   "id": "7a1db636",
   "metadata": {},
   "outputs": [
    {
     "data": {
      "text/plain": [
       "(76, 10)"
      ]
     },
     "execution_count": 11,
     "metadata": {},
     "output_type": "execute_result"
    }
   ],
   "source": [
    "#y = df[dependent_cols]\n",
    "y = df[all_dependent_cols]\n",
    "y.head()\n",
    "y.shape"
   ]
  },
  {
   "cell_type": "code",
   "execution_count": 12,
   "id": "a579dc5d",
   "metadata": {},
   "outputs": [],
   "source": [
    "from sklearn.model_selection import train_test_split\n",
    "X_train, X_test, y_train, y_test = train_test_split(X,y,test_size=0.2,random_state=10)\n",
    "#X_train.head()\n",
    "#X_test.head()\n",
    "#y_train.head()\n",
    "#y_test.head()"
   ]
  },
  {
   "cell_type": "markdown",
   "id": "0577a4ca",
   "metadata": {},
   "source": [
    "# Linear Regression"
   ]
  },
  {
   "cell_type": "code",
   "execution_count": 13,
   "id": "85a882db",
   "metadata": {},
   "outputs": [
    {
     "data": {
      "text/plain": [
       "0.5782867323037519"
      ]
     },
     "execution_count": 13,
     "metadata": {},
     "output_type": "execute_result"
    }
   ],
   "source": [
    "from sklearn.linear_model import LinearRegression\n",
    "lr_clf = LinearRegression()\n",
    "lr_clf.fit(X_train,y_train)\n",
    "lr_clf.score(X_test,y_test)"
   ]
  },
  {
   "cell_type": "code",
   "execution_count": 14,
   "id": "993728e9",
   "metadata": {},
   "outputs": [],
   "source": [
    "#lr_clf.predict(X_test)"
   ]
  },
  {
   "cell_type": "markdown",
   "id": "db2d4570",
   "metadata": {},
   "source": [
    "# Decision Tree Regressor"
   ]
  },
  {
   "cell_type": "code",
   "execution_count": 15,
   "id": "42605b72",
   "metadata": {},
   "outputs": [
    {
     "data": {
      "text/plain": [
       "0.9997617309430243"
      ]
     },
     "execution_count": 15,
     "metadata": {},
     "output_type": "execute_result"
    }
   ],
   "source": [
    "from sklearn.tree import DecisionTreeRegressor\n",
    "dct_clf = DecisionTreeRegressor(criterion='squared_error', splitter='best')\n",
    "dct_clf.fit(X_train,y_train)\n",
    "dct_clf.score(X_test,y_test)"
   ]
  },
  {
   "cell_type": "code",
   "execution_count": 16,
   "id": "76b42285",
   "metadata": {},
   "outputs": [],
   "source": [
    "#dct_clf.predict(X_test)"
   ]
  },
  {
   "cell_type": "markdown",
   "id": "e450eec7",
   "metadata": {},
   "source": [
    "# Cross-validation is a powerful preventative measure against overfitting"
   ]
  },
  {
   "cell_type": "code",
   "execution_count": 17,
   "id": "660b4c40",
   "metadata": {},
   "outputs": [
    {
     "data": {
      "text/plain": [
       "array([0.7992113 , 0.9102783 , 0.88477104, 0.86456141, 0.7682209 ])"
      ]
     },
     "execution_count": 17,
     "metadata": {},
     "output_type": "execute_result"
    }
   ],
   "source": [
    "from sklearn.model_selection import ShuffleSplit\n",
    "from sklearn.model_selection import cross_val_score\n",
    "cv = ShuffleSplit(n_splits=5, test_size=0.2, random_state=0)\n",
    "cross_val_score(LinearRegression(),X,y,cv=cv)"
   ]
  },
  {
   "cell_type": "code",
   "execution_count": 18,
   "id": "b6a77dbe",
   "metadata": {},
   "outputs": [],
   "source": [
    "from sklearn.model_selection import GridSearchCV\n",
    "from sklearn.linear_model import Lasso\n",
    "from sklearn.tree import DecisionTreeRegressor\n",
    "def find_best_model_GSCV(X,y):\n",
    "    algos = {\n",
    "        'linear_regression' : {\n",
    "            'model' : LinearRegression(),\n",
    "            'params' : {\n",
    "                'normalize' : [True, False]\n",
    "            }\n",
    "        },\n",
    "        'lasso' : {\n",
    "            'model' : Lasso(),\n",
    "            'params' : {\n",
    "                'alpha' : [1,2],\n",
    "                'selection' : ['random', 'cyclic']\n",
    "            }\n",
    "            \n",
    "        },\n",
    "        'decision_tree' : {\n",
    "            'model' : DecisionTreeRegressor(),\n",
    "            'params' : {\n",
    "                'criterion' : ['squared_error', 'friedman_mse'],\n",
    "                'splitter' : ['best','random']\n",
    "            }\n",
    "        }\n",
    "    }\n",
    "    scores = []\n",
    "    cv = ShuffleSplit(n_splits=5, test_size=0.2, random_state=0)\n",
    "    for algo_name, config in algos.items():\n",
    "        gs = GridSearchCV(config['model'],config['params'],cv=cv,return_train_score=False)\n",
    "        gs.fit(X,y)\n",
    "        scores.append({\n",
    "            'model' : algo_name,\n",
    "            'best_core' : gs.best_score_,\n",
    "            'best_params' : gs.best_params_\n",
    "        })\n",
    "        \n",
    "    return pd.DataFrame(scores,columns=['model', 'best_core', 'best_params'])\n",
    "\n",
    "#find_best_model_GSCV(X,y)"
   ]
  },
  {
   "cell_type": "code",
   "execution_count": 19,
   "id": "1fbf684e",
   "metadata": {},
   "outputs": [],
   "source": [
    "import pickle\n",
    "with open ('marvel_tango_allcores.pickle','wb') as f:\n",
    "    pickle.dump(lr_clf,f)"
   ]
  },
  {
   "cell_type": "code",
   "execution_count": 20,
   "id": "b3667d94",
   "metadata": {},
   "outputs": [],
   "source": [
    "import json\n",
    "d_columns = {\n",
    "    'data_columns' : [col.lower() for col in X.columns]\n",
    "}\n",
    "with open(\"columns.json\",\"w\") as f:\n",
    "    f.write(json.dumps(d_columns))"
   ]
  }
 ],
 "metadata": {
  "kernelspec": {
   "display_name": "Python 3 (ipykernel)",
   "language": "python",
   "name": "python3"
  },
  "language_info": {
   "codemirror_mode": {
    "name": "ipython",
    "version": 3
   },
   "file_extension": ".py",
   "mimetype": "text/x-python",
   "name": "python",
   "nbconvert_exporter": "python",
   "pygments_lexer": "ipython3",
   "version": "3.10.1"
  }
 },
 "nbformat": 4,
 "nbformat_minor": 5
}
